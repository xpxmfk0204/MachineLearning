{
 "cells": [
  {
   "cell_type": "markdown",
   "id": "d23fca0e",
   "metadata": {},
   "source": [
    "# HW#7: K-fold Cross-Validation\n",
    "\n",
    "- 내용: K-fold Cross-validation를 이용해서 적절한 모델 선정하기 (K=5)\n",
    "- 교차검증모델: Hidden layer 갯수가 1, 2, 3, 4인 4개의 뉴럴네트워크 모델. Hidden layer의 유닛수는 6로 고정\n",
    "- 데이터: sinusoidal + 노이즈 데이터\n",
    "- 결과: K-fold cross-validation를 통해서 선정된 모델"
   ]
  },
  {
   "cell_type": "markdown",
   "id": "2c7155c2",
   "metadata": {},
   "source": [
    "## Sample Neural Network Model \n",
    " - Regression problem"
   ]
  },
  {
   "cell_type": "code",
   "execution_count": 3,
   "id": "3f53b39e",
   "metadata": {},
   "outputs": [],
   "source": [
    "import numpy as np\n",
    "import torch\n",
    "import torch.optim as optim\n",
    "import torch.nn as nn"
   ]
  },
  {
   "cell_type": "code",
   "execution_count": 10,
   "id": "175f4b2f",
   "metadata": {},
   "outputs": [],
   "source": [
    "x = np.loadtxt('./noisy_sin_sample.csv',delimiter=',',dtype=\"float32\")\n",
    "\n",
    "np.random.shuffle(x) # shuffling\n",
    "\n",
    "d_in = x[:,0]\n",
    "d_out = x[:,1]\n",
    "in_data = np.split(d_in, [4,8,12,16,21])       # 5-fold split\n",
    "out_data = np.split(d_out, [4,8,12,16,21])      # 5-fold split"
   ]
  },
  {
   "cell_type": "code",
   "execution_count": 11,
   "id": "6e8c9e8c",
   "metadata": {},
   "outputs": [],
   "source": [
    "def training_loop(n_epochs, optimizer, model, loss_fn, t_u_train, t_u_val,\n",
    "                  t_c_train, t_c_val):\n",
    "    for epoch in range(1, n_epochs + 1):\n",
    "        t_p_train = model(t_u_train) # <1>\n",
    "        loss_train = loss_fn(t_p_train, t_c_train)\n",
    "\n",
    "        t_p_val = model(t_u_val) # <1>\n",
    "        loss_val = loss_fn(t_p_val, t_c_val)\n",
    "        \n",
    "        optimizer.zero_grad()   # 모든 gradient를 0으로 초기화\n",
    "        loss_train.backward()   # gradient 계산\n",
    "        optimizer.step()        # 최적화 \n",
    "\n",
    "        if epoch == 1 or epoch % 1000 == 0:\n",
    "            print(f\"Epoch {epoch}, Training loss {loss_train.item():.4f},\"\n",
    "                  f\" Validation loss {loss_val.item():.4f}\")"
   ]
  },
  {
   "cell_type": "code",
   "execution_count": 34,
   "id": "847419bc",
   "metadata": {},
   "outputs": [],
   "source": [
    "# Model 생성\n",
    "\n",
    "# Model_1: 1 layer\n",
    "seq_model1 = nn.Sequential(\n",
    "            nn.Linear(1, 6), # <1>\n",
    "            nn.Tanh(),\n",
    "            nn.Linear(6, 1)) # <2>\n",
    "\n",
    "# Model_2: 2 layer\n",
    "seq_model2 = nn.Sequential(\n",
    "            nn.Linear(1, 6), # <1>\n",
    "            nn.Tanh(),\n",
    "            nn.Linear(6, 6), # <1>\n",
    "            nn.Tanh(),      \n",
    "            nn.Linear(6, 1)) # <2>\n",
    "\n",
    "# Model_3: 3 layer\n",
    "seq_model3 = nn.Sequential(\n",
    "            nn.Linear(1, 6), # <1>\n",
    "            nn.Tanh(),\n",
    "            nn.Linear(6, 6), # <1>\n",
    "            nn.Tanh(),    \n",
    "            nn.Linear(6, 6), # <1>\n",
    "            nn.Tanh(),      \n",
    "            nn.Linear(6, 1)) # <2>\n",
    "\n",
    "# Model_4: 4 layer\n",
    "seq_model4 = nn.Sequential(\n",
    "            nn.Linear(1, 6), # <1>\n",
    "            nn.Tanh(),\n",
    "            nn.Linear(6, 6), # <1>\n",
    "            nn.Tanh(),\n",
    "            nn.Linear(6, 6), # <1>\n",
    "            nn.Tanh(),        \n",
    "            nn.Linear(6, 6), # <1>\n",
    "            nn.Tanh(),      \n",
    "            nn.Linear(6, 1)) # <2>"
   ]
  },
  {
   "cell_type": "markdown",
   "id": "c2a7ecfa",
   "metadata": {},
   "source": [
    "## Parameters\n",
    "- 자유롭게 선정\n",
    "- lr = 0.1 fixed\n",
    "- max iteration = 30000 fixed"
   ]
  },
  {
   "cell_type": "code",
   "execution_count": 54,
   "id": "76c80f2d",
   "metadata": {},
   "outputs": [
    {
     "name": "stdout",
     "output_type": "stream",
     "text": [
      "Epoch 1, Training loss 0.0630, Validation loss 0.0414\n",
      "Epoch 1000, Training loss 0.0279, Validation loss 0.0656\n",
      "Epoch 2000, Training loss 0.0277, Validation loss 0.0669\n",
      "Epoch 3000, Training loss 0.0275, Validation loss 0.0680\n",
      "Epoch 4000, Training loss 0.0273, Validation loss 0.0689\n",
      "Epoch 5000, Training loss 0.0271, Validation loss 0.0696\n",
      "Epoch 6000, Training loss 0.0270, Validation loss 0.0701\n",
      "Epoch 7000, Training loss 0.0269, Validation loss 0.0705\n",
      "Epoch 8000, Training loss 0.0267, Validation loss 0.0708\n",
      "Epoch 9000, Training loss 0.0266, Validation loss 0.0710\n",
      "Epoch 10000, Training loss 0.0265, Validation loss 0.0711\n",
      "Epoch 11000, Training loss 0.0264, Validation loss 0.0712\n",
      "Epoch 12000, Training loss 0.0263, Validation loss 0.0713\n",
      "Epoch 13000, Training loss 0.0262, Validation loss 0.0713\n",
      "Epoch 14000, Training loss 0.0261, Validation loss 0.0713\n",
      "Epoch 15000, Training loss 0.0260, Validation loss 0.0713\n",
      "Epoch 16000, Training loss 0.0259, Validation loss 0.0713\n",
      "Epoch 17000, Training loss 0.0259, Validation loss 0.0712\n",
      "Epoch 18000, Training loss 0.0258, Validation loss 0.0712\n",
      "Epoch 19000, Training loss 0.0257, Validation loss 0.0712\n",
      "Epoch 20000, Training loss 0.0256, Validation loss 0.0711\n",
      "Epoch 21000, Training loss 0.0255, Validation loss 0.0711\n",
      "Epoch 22000, Training loss 0.0254, Validation loss 0.0711\n",
      "Epoch 23000, Training loss 0.0253, Validation loss 0.0711\n",
      "Epoch 24000, Training loss 0.0252, Validation loss 0.0711\n",
      "Epoch 25000, Training loss 0.0251, Validation loss 0.0711\n",
      "Epoch 26000, Training loss 0.0250, Validation loss 0.0711\n",
      "Epoch 27000, Training loss 0.0249, Validation loss 0.0711\n",
      "Epoch 28000, Training loss 0.0248, Validation loss 0.0712\n",
      "Epoch 29000, Training loss 0.0246, Validation loss 0.0712\n",
      "Epoch 30000, Training loss 0.0245, Validation loss 0.0713\n",
      "output tensor([[ 0.8020],\n",
      "        [-0.2383],\n",
      "        [ 0.7859],\n",
      "        [ 0.5403],\n",
      "        [-0.2206]], grad_fn=<AddmmBackward0>)\n",
      "answer tensor([[ 1.2788],\n",
      "        [ 0.0428],\n",
      "        [ 0.6125],\n",
      "        [ 0.6794],\n",
      "        [-0.2490]])\n"
     ]
    }
   ],
   "source": [
    "# 실행할 때마다 model과 fold_set = 0,1,2,3,4 를 설정해줘야 함.\n",
    "optimizer = optim.SGD(seq_model4.parameters(), lr=1e-1) # 주의: lr에 매우 민감. 여러 값 시도해 보도록\n",
    "\n",
    "#fold_set = 4 # 매번 바꾸면서 수행. Fold = 0,1,2,3,4\n",
    "\n",
    "# K-fold 구성\n",
    "yy = np.zeros(shape=(1,),dtype=\"float32\")\n",
    "zz = np.zeros(shape=(1,),dtype=\"float32\")\n",
    "for n in range(5):\n",
    "    if  n != fold_set:\n",
    "        yy = np.concatenate((yy,in_data[n]), axis=0)\n",
    "        zz = np.concatenate((zz,out_data[n]), axis=0)\n",
    "tr_d_in = np.delete(yy,[0])\n",
    "val_d_in = in_data[fold_set]\n",
    "tr_d_out = np.delete(zz,[0])\n",
    "val_d_out = out_data[fold_set]\n",
    "\n",
    "tr_d_in = torch.tensor(tr_d_in).unsqueeze(1)   # 배치 입력을 위해 차원 추가, 예) 10 --> 10x1\n",
    "val_d_in = torch.tensor(val_d_in).unsqueeze(1)\n",
    "tr_d_out = torch.tensor(tr_d_out).unsqueeze(1)   # 배치 입력을 위해 차원 추가, 예) 10 --> 10x1\n",
    "val_d_out = torch.tensor(val_d_out).unsqueeze(1)\n",
    "\n",
    "training_loop(\n",
    "    n_epochs = 30000, \n",
    "    optimizer = optimizer,\n",
    "    model = seq_model4,\n",
    "    loss_fn = nn.MSELoss(),\n",
    "    t_u_train = tr_d_in,\n",
    "\n",
    "    t_u_val = val_d_in, \n",
    "    t_c_train = tr_d_out,\n",
    "    t_c_val = val_d_out)\n",
    "    \n",
    "print('output', seq_model1(val_d_in))\n",
    "print('answer', val_d_out)\n",
    "#print('hidden', seq_model.hidden_linear.weight.grad)"
   ]
  },
  {
   "cell_type": "markdown",
   "id": "86c1c448",
   "metadata": {},
   "source": [
    "## Validation error vs Models\n",
    "- 다음 테이블을 채우시오\n",
    "\n",
    "| Fold | model_1  | model_2  | model_3  | model_4  |\n",
    "|------|----------|----------|----------|----------|\n",
    "|  0   |  0.0878  |  0.0801  |  0.0834  |  0.0843  |\n",
    "|  1   |  0.0160  |  0.0102  |  0.0726  |  0.0272  |\n",
    "|  2   |  0.0264  |  0.0350  |  0.0681  |  0.0406  |\n",
    "|  3   |  0.1190  |  0.1043  |  0.0529  |  0.0445  |\n",
    "|  4   |  0.0656  |  0.0831  |  0.1476  |  0.0466  |\n",
    "|------|----------|----------|----------|----------|\n",
    "| Avg  |  0.06296 |  0.06254 |  0.08492 |  0.04864 |\n",
    "\n",
    "- 최저 평균 validation error를 갖는 모델은?  => model_4"
   ]
  },
  {
   "cell_type": "markdown",
   "id": "f0e5c080",
   "metadata": {},
   "source": [
    "## 최종 모델에 대한 full dataset에 대해서 training"
   ]
  },
  {
   "cell_type": "code",
   "execution_count": 64,
   "id": "2ed6688f",
   "metadata": {},
   "outputs": [
    {
     "name": "stdout",
     "output_type": "stream",
     "text": [
      "Epoch 1, Training loss 0.6108,\n",
      "Epoch 1000, Training loss 0.0513,\n",
      "Epoch 2000, Training loss 0.0533,\n",
      "Epoch 3000, Training loss 0.0499,\n",
      "Epoch 4000, Training loss 0.0496,\n",
      "Epoch 5000, Training loss 0.0494,\n",
      "Epoch 6000, Training loss 0.0485,\n",
      "Epoch 7000, Training loss 0.0466,\n",
      "Epoch 8000, Training loss 0.0415,\n",
      "Epoch 9000, Training loss 0.0347,\n",
      "Epoch 10000, Training loss 0.0320,\n",
      "Epoch 11000, Training loss 0.0316,\n",
      "Epoch 12000, Training loss 0.0315,\n",
      "Epoch 13000, Training loss 0.0313,\n",
      "Epoch 14000, Training loss 0.0311,\n",
      "Epoch 15000, Training loss 0.0309,\n",
      "Epoch 16000, Training loss 0.0307,\n",
      "Epoch 17000, Training loss 0.0306,\n",
      "Epoch 18000, Training loss 0.0305,\n",
      "Epoch 19000, Training loss 0.0304,\n",
      "Epoch 20000, Training loss 0.0303,\n",
      "Epoch 21000, Training loss 0.0302,\n",
      "Epoch 22000, Training loss 0.0301,\n",
      "Epoch 23000, Training loss 0.0298,\n",
      "Epoch 24000, Training loss 0.0292,\n",
      "Epoch 25000, Training loss 0.0271,\n",
      "Epoch 26000, Training loss 0.0237,\n",
      "Epoch 27000, Training loss 0.0223,\n",
      "Epoch 28000, Training loss 0.0219,\n",
      "Epoch 29000, Training loss 0.0218,\n",
      "Epoch 30000, Training loss 0.0217,\n",
      "output tensor([[ 0.9948],\n",
      "        [ 0.4112],\n",
      "        [-0.0382],\n",
      "        [ 0.8567],\n",
      "        [ 0.9421],\n",
      "        [ 0.7878],\n",
      "        [-1.0063],\n",
      "        [-0.4463],\n",
      "        [ 0.5146],\n",
      "        [ 0.9165],\n",
      "        [-1.1425],\n",
      "        [ 0.7572],\n",
      "        [-0.0965],\n",
      "        [-0.6252],\n",
      "        [-0.1780],\n",
      "        [-0.3340],\n",
      "        [ 1.0018],\n",
      "        [-0.9862],\n",
      "        [ 0.4359],\n",
      "        [-0.2325],\n",
      "        [-0.1907]], grad_fn=<AddmmBackward0>)\n",
      "answer tensor([[ 0.9776],\n",
      "        [ 0.4147],\n",
      "        [-0.0313],\n",
      "        [ 0.6028],\n",
      "        [ 1.0266],\n",
      "        [ 0.6125],\n",
      "        [-0.9758],\n",
      "        [-0.4837],\n",
      "        [ 0.6794],\n",
      "        [ 1.2788],\n",
      "        [-1.1745],\n",
      "        [ 0.7503],\n",
      "        [-0.4163],\n",
      "        [-0.6135],\n",
      "        [-0.2490],\n",
      "        [-0.3419],\n",
      "        [ 0.8886],\n",
      "        [-0.9915],\n",
      "        [ 0.4482],\n",
      "        [-0.1039],\n",
      "        [ 0.0428]])\n"
     ]
    }
   ],
   "source": [
    "x = np.loadtxt('./noisy_sin_sample.csv',delimiter=',',dtype=\"float32\")\n",
    "\n",
    "np.random.shuffle(x) # shuffling\n",
    "\n",
    "d_in = x[:,0]\n",
    "d_out = x[:,1]\n",
    "d_in = torch.tensor(d_in).unsqueeze(1)   # 배치 입력을 위해 차원 추가, 예) 10 --> 10x1\n",
    "d_out = torch.tensor(d_out).unsqueeze(1)   # 배치 입력을 위해 차원 추가, 예) 10 --> 10x1\n",
    "\n",
    "def training_loop(n_epochs, optimizer, model, loss_fn, t_u_train, t_c_train):\n",
    "    for epoch in range(1, n_epochs + 1):\n",
    "        t_p_train = model(t_u_train) # <1>\n",
    "        loss_train = loss_fn(t_p_train, t_c_train)\n",
    "        \n",
    "        optimizer.zero_grad()   # 모든 gradient를 0으로 초기화\n",
    "        loss_train.backward()   # gradient 계산\n",
    "        optimizer.step()        # 최적화 \n",
    "\n",
    "        if epoch == 1 or epoch % 1000 == 0:\n",
    "            print(f\"Epoch {epoch}, Training loss {loss_train.item():.4f},\"f\"\")\n",
    "\n",
    "# Model_4: 4 layer\n",
    "seq_model4 = nn.Sequential(\n",
    "            nn.Linear(1, 6), # <1>\n",
    "            nn.Tanh(),\n",
    "            nn.Linear(6, 6), # <1>\n",
    "            nn.Tanh(),\n",
    "            nn.Linear(6, 6), # <1>\n",
    "            nn.Tanh(),        \n",
    "            nn.Linear(6, 6), # <1>\n",
    "            nn.Tanh(),      \n",
    "            nn.Linear(6, 1)) # <2>\n",
    "\n",
    "optimizer = optim.SGD(seq_model4.parameters(), lr=1e-1)\n",
    "\n",
    "training_loop(\n",
    "    n_epochs = 30000, \n",
    "    optimizer = optimizer,\n",
    "    model = seq_model4,\n",
    "    loss_fn = nn.MSELoss(),\n",
    "    t_u_train = d_in,\n",
    "    t_c_train = d_out)\n",
    "    \n",
    "print('output', seq_model4(d_in))\n",
    "print('answer', d_out)\n",
    "#print('hidden', seq_model.hidden_linear.weight.grad)"
   ]
  },
  {
   "cell_type": "markdown",
   "id": "aed81187",
   "metadata": {},
   "source": [
    "## 최종모델 (regression)에 대한 시각화"
   ]
  },
  {
   "cell_type": "code",
   "execution_count": 72,
   "id": "33c3d7d9",
   "metadata": {
    "scrolled": true
   },
   "outputs": [
    {
     "data": {
      "text/plain": [
       "[<matplotlib.lines.Line2D at 0x10f530050>]"
      ]
     },
     "execution_count": 72,
     "metadata": {},
     "output_type": "execute_result"
    },
    {
     "data": {
      "image/png": "[encoded data removed]",
      "text/plain": [
       "<Figure size 640x480 with 1 Axes>"
      ]
     },
     "metadata": {},
     "output_type": "display_data"
    }
   ],
   "source": [
    "from matplotlib import pyplot as plt\n",
    "\n",
    "t_range = torch.arange(0.0, 1.0,0.01).unsqueeze(1)\n",
    "\n",
    "fig = plt.figure(dpi=100)\n",
    "plt.xlabel(\"x\")\n",
    "plt.ylabel(\"sin(x)\")\n",
    "plt.plot(d_in.numpy(), d_out.numpy(), 'o')\n",
    "plt.plot(d_in.numpy(), seq_model4(d_in).detach().numpy(), 'kx')\n",
    "plt.plot(t_range.numpy(), seq_model4(t_range).detach().numpy(), 'c-')"
   ]
  },
  {
   "cell_type": "code",
   "execution_count": null,
   "id": "33a34d09-d234-409b-83c0-55a67bd1c55c",
   "metadata": {},
   "outputs": [],
   "source": []
  }
 ],
 "metadata": {
  "kernelspec": {
   "display_name": "Python (junhakPython)",
   "language": "python",
   "name": "junhakpython"
  },
  "language_info": {
   "codemirror_mode": {
    "name": "ipython",
    "version": 3
   },
   "file_extension": ".py",
   "mimetype": "text/x-python",
   "name": "python",
   "nbconvert_exporter": "python",
   "pygments_lexer": "ipython3",
   "version": "3.12.1"
  }
 },
 "nbformat": 4,
 "nbformat_minor": 5
}
